{
 "cells": [
  {
   "cell_type": "markdown",
   "metadata": {},
   "source": [
    "# Basic Prompt Structures Tutorial\n",
    "\n",
    "## Overview\n",
    "\n",
    "This notebook focuses on two fundamental types of prompt structures:\n",
    "1. Single-turn prompts\n",
    "2. Multi-turn prompts (conversations)\n",
    "\n",
    "We'll use OpenAI's GPT model and LangChain to demonstrate these concepts.\n",
    "\n",
    "## Motivation\n",
    "\n",
    "Understanding different prompt structures is crucial for effective communication with AI models. Single-turn prompts are useful for quick, straightforward queries, while multi-turn prompts enable more complex, context-aware interactions. Mastering these structures allows for more versatile and effective use of AI in various applications.\n",
    "\n",
    "## Key Components\n",
    "\n",
    "1. **Single-turn Prompts**: One-shot interactions with the language model.\n",
    "2. **Multi-turn Prompts**: Series of interactions that maintain context.\n",
    "3. **Prompt Templates**: Reusable structures for consistent prompting.\n",
    "4. **Conversation Chains**: Maintaining context across multiple interactions.\n",
    "\n",
    "## Method Details\n",
    "\n",
    "We'll use a combination of OpenAI's API and LangChain library to demonstrate these prompt structures. The tutorial will include practical examples and comparisons of different prompt types."
   ]
  },
  {
   "cell_type": "markdown",
   "metadata": {},
   "source": [
    "## Setup\n",
    "\n",
    "First, let's import the necessary libraries and set up our environment."
   ]
  },
  {
   "cell_type": "code",
   "execution_count": 1,
   "metadata": {},
   "outputs": [],
   "source": [
    "import os\n",
    "from langchain_openai import ChatOpenAI\n",
    "from langchain.prompts import PromptTemplate\n",
    "from langchain.chains import ConversationChain\n",
    "from langchain.memory import ConversationBufferMemory\n",
    "\n",
    "# from dotenv import load_dotenv\n",
    "# load_dotenv()\n",
    "\n",
    "# os.environ[\"OPENAI_API_KEY\"] = os.getenv('OPENAI_API_KEY') # OpenAI API key\n",
    "# Initialize the language model\n",
    "llm = ChatOpenAI(model=\"gpt-4o-mini\")"
   ]
  },
  {
   "cell_type": "markdown",
   "metadata": {},
   "source": [
    "## 1. Single-turn Prompts\n",
    "\n",
    "Single-turn prompts are one-shot interactions with the language model. They consist of a single input (prompt) and generate a single output (response)."
   ]
  },
  {
   "cell_type": "code",
   "execution_count": 2,
   "metadata": {},
   "outputs": [
    {
     "name": "stdout",
     "output_type": "stream",
     "text": [
      "The three primary colors are red, blue, and yellow. These colors cannot be created by mixing other colors together and can be combined in various ways to create a wide spectrum of other colors.\n"
     ]
    }
   ],
   "source": [
    "single_turn_prompt = \"What are the three primary colors?\"\n",
    "print(llm.invoke(single_turn_prompt).content)"
   ]
  },
  {
   "cell_type": "markdown",
   "metadata": {},
   "source": [
    "Now, let's use a PromptTemplate to create a more structured single-turn prompt:"
   ]
  },
  {
   "cell_type": "code",
   "execution_count": 3,
   "metadata": {},
   "outputs": [
    {
     "name": "stdout",
     "output_type": "stream",
     "text": [
      "Color theory is a conceptual framework used to understand how colors interact, combine, and can be used effectively in design and art. It explores the relationships between colors and how they can create visual harmony or contrast. The theory also addresses the psychological and emotional responses that colors can evoke.\n",
      "\n",
      "The three main components of color theory are:\n",
      "\n",
      "1. **Color Wheel**: A circular diagram that displays the spectrum of colors, arranged in a way that illustrates the relationships between primary, secondary, and tertiary colors. The color wheel helps artists and designers understand color mixing and harmony.\n",
      "\n",
      "2. **Color Harmony**: This refers to the pleasing arrangement of colors, which can be achieved through various schemes, such as complementary (opposite colors), analogous (adjacent colors), or triadic (three colors evenly spaced on the wheel). Color harmony is essential for creating visually appealing compositions.\n",
      "\n",
      "3. **Color Context**: This component explores how colors interact with one another and how they are perceived in relation to surrounding colors. The context in which a color is placed can significantly affect its appearance and emotional impact.\n",
      "\n",
      "Together, these components provide a foundational understanding of how to use color effectively in various applications.\n"
     ]
    }
   ],
   "source": [
    "structured_prompt = PromptTemplate(\n",
    "    input_variables=[\"topic\"],\n",
    "    template=\"Provide a brief explanation of {topic} and list its three main components.\"\n",
    ")\n",
    "\n",
    "chain = structured_prompt | llm\n",
    "print(chain.invoke({\"topic\": \"color theory\"}).content)"
   ]
  },
  {
   "cell_type": "markdown",
   "metadata": {},
   "source": [
    "## 2. Multi-turn Prompts (Conversations)\n",
    "\n",
    "Multi-turn prompts involve a series of interactions with the language model, allowing for more complex and context-aware conversations."
   ]
  },
  {
   "cell_type": "code",
   "execution_count": 4,
   "metadata": {},
   "outputs": [
    {
     "name": "stderr",
     "output_type": "stream",
     "text": [
      "/var/folders/20/3yg6fdqn0q37hmd96kcp0czh0000gn/T/ipykernel_38789/4194631287.py:1: LangChainDeprecationWarning: The class `ConversationChain` was deprecated in LangChain 0.2.7 and will be removed in 1.0. Use RunnableWithMessageHistory: https://python.langchain.com/v0.2/api_reference/core/runnables/langchain_core.runnables.history.RunnableWithMessageHistory.html instead.\n",
      "  conversation = ConversationChain(\n"
     ]
    },
    {
     "name": "stdout",
     "output_type": "stream",
     "text": [
      "\n",
      "\n",
      "\u001b[1m> Entering new ConversationChain chain...\u001b[0m\n",
      "Prompt after formatting:\n",
      "\u001b[32;1m\u001b[1;3mThe following is a friendly conversation between a human and an AI. The AI is talkative and provides lots of specific details from its context. If the AI does not know the answer to a question, it truthfully says it does not know.\n",
      "\n",
      "Current conversation:\n",
      "\n",
      "Human: Hi, I'm learning about space. Can you tell me about planets?\n",
      "AI:\u001b[0m\n",
      "\n",
      "\u001b[1m> Finished chain.\u001b[0m\n",
      "Sure! Planets are fascinating celestial bodies that orbit stars, and in our case, the Sun. In our solar system, we have eight recognized planets, which can be divided into two main categories: terrestrial (rocky) planets and gas giants.\n",
      "\n",
      "The terrestrial planets include:\n",
      "1. **Mercury**: The closest planet to the Sun, Mercury is small and has a very thin atmosphere, leading to extreme temperature variations.\n",
      "2. **Venus**: Often called Earth's \"sister planet\" due to its similar size, Venus has a thick, toxic atmosphere and is the hottest planet in our solar system.\n",
      "3. **Earth**: Our home! Earth is unique because it has liquid water and supports life. It has a diverse climate and geography.\n",
      "4. **Mars**: Known as the \"Red Planet\" due to its iron oxide-rich soil, Mars has been a focus for exploration, especially regarding the possibility of past life.\n",
      "\n",
      "The gas giants are:\n",
      "1. **Jupiter**: The largest planet in our solar system, Jupiter is known for its Great Red Spot, a gigantic storm, and its many moons, including Ganymede, the largest moon in the solar system.\n",
      "2. **Saturn**: Famous for its stunning rings, Saturn is also a gas giant and has numerous moons, including Titan, which has a thick atmosphere and lakes of liquid methane.\n",
      "3. **Uranus**: An ice giant with a unique tilt that causes it to rotate on its side, Uranus has a faint ring system and 27 known moons.\n",
      "4. **Neptune**: The farthest planet from the Sun, Neptune is known for its deep blue color and strong winds, with some of the fastest winds in the solar system.\n",
      "\n",
      "There are also dwarf planets, like Pluto, which don't meet all the criteria to be considered full-fledged planets. Each planet has its own unique features and mysteries, making space exploration an exciting field! Do you have any specific questions about a particular planet?\n",
      "\n",
      "\n",
      "\u001b[1m> Entering new ConversationChain chain...\u001b[0m\n",
      "Prompt after formatting:\n",
      "\u001b[32;1m\u001b[1;3mThe following is a friendly conversation between a human and an AI. The AI is talkative and provides lots of specific details from its context. If the AI does not know the answer to a question, it truthfully says it does not know.\n",
      "\n",
      "Current conversation:\n",
      "Human: Hi, I'm learning about space. Can you tell me about planets?\n",
      "AI: Sure! Planets are fascinating celestial bodies that orbit stars, and in our case, the Sun. In our solar system, we have eight recognized planets, which can be divided into two main categories: terrestrial (rocky) planets and gas giants.\n",
      "\n",
      "The terrestrial planets include:\n",
      "1. **Mercury**: The closest planet to the Sun, Mercury is small and has a very thin atmosphere, leading to extreme temperature variations.\n",
      "2. **Venus**: Often called Earth's \"sister planet\" due to its similar size, Venus has a thick, toxic atmosphere and is the hottest planet in our solar system.\n",
      "3. **Earth**: Our home! Earth is unique because it has liquid water and supports life. It has a diverse climate and geography.\n",
      "4. **Mars**: Known as the \"Red Planet\" due to its iron oxide-rich soil, Mars has been a focus for exploration, especially regarding the possibility of past life.\n",
      "\n",
      "The gas giants are:\n",
      "1. **Jupiter**: The largest planet in our solar system, Jupiter is known for its Great Red Spot, a gigantic storm, and its many moons, including Ganymede, the largest moon in the solar system.\n",
      "2. **Saturn**: Famous for its stunning rings, Saturn is also a gas giant and has numerous moons, including Titan, which has a thick atmosphere and lakes of liquid methane.\n",
      "3. **Uranus**: An ice giant with a unique tilt that causes it to rotate on its side, Uranus has a faint ring system and 27 known moons.\n",
      "4. **Neptune**: The farthest planet from the Sun, Neptune is known for its deep blue color and strong winds, with some of the fastest winds in the solar system.\n",
      "\n",
      "There are also dwarf planets, like Pluto, which don't meet all the criteria to be considered full-fledged planets. Each planet has its own unique features and mysteries, making space exploration an exciting field! Do you have any specific questions about a particular planet?\n",
      "Human: What's the largest planet in our solar system?\n",
      "AI:\u001b[0m\n",
      "\n",
      "\u001b[1m> Finished chain.\u001b[0m\n",
      "The largest planet in our solar system is Jupiter. It has a diameter of about 86,881 miles (139,822 kilometers), making it more than 11 times wider than Earth! Jupiter is primarily composed of hydrogen and helium, and its massive size gives it a strong gravitational pull, which helps it capture many moons—over 79 known moons, in fact. \n",
      "\n",
      "One of the most famous features of Jupiter is the Great Red Spot, a massive storm that has been raging for at least 350 years. This storm is so large that it could fit two to three Earths inside it! Jupiter also has a faint ring system, although it's not as prominent as Saturn's rings. \n",
      "\n",
      "Would you like to know more about Jupiter's moons or any specific features?\n",
      "\n",
      "\n",
      "\u001b[1m> Entering new ConversationChain chain...\u001b[0m\n",
      "Prompt after formatting:\n",
      "\u001b[32;1m\u001b[1;3mThe following is a friendly conversation between a human and an AI. The AI is talkative and provides lots of specific details from its context. If the AI does not know the answer to a question, it truthfully says it does not know.\n",
      "\n",
      "Current conversation:\n",
      "Human: Hi, I'm learning about space. Can you tell me about planets?\n",
      "AI: Sure! Planets are fascinating celestial bodies that orbit stars, and in our case, the Sun. In our solar system, we have eight recognized planets, which can be divided into two main categories: terrestrial (rocky) planets and gas giants.\n",
      "\n",
      "The terrestrial planets include:\n",
      "1. **Mercury**: The closest planet to the Sun, Mercury is small and has a very thin atmosphere, leading to extreme temperature variations.\n",
      "2. **Venus**: Often called Earth's \"sister planet\" due to its similar size, Venus has a thick, toxic atmosphere and is the hottest planet in our solar system.\n",
      "3. **Earth**: Our home! Earth is unique because it has liquid water and supports life. It has a diverse climate and geography.\n",
      "4. **Mars**: Known as the \"Red Planet\" due to its iron oxide-rich soil, Mars has been a focus for exploration, especially regarding the possibility of past life.\n",
      "\n",
      "The gas giants are:\n",
      "1. **Jupiter**: The largest planet in our solar system, Jupiter is known for its Great Red Spot, a gigantic storm, and its many moons, including Ganymede, the largest moon in the solar system.\n",
      "2. **Saturn**: Famous for its stunning rings, Saturn is also a gas giant and has numerous moons, including Titan, which has a thick atmosphere and lakes of liquid methane.\n",
      "3. **Uranus**: An ice giant with a unique tilt that causes it to rotate on its side, Uranus has a faint ring system and 27 known moons.\n",
      "4. **Neptune**: The farthest planet from the Sun, Neptune is known for its deep blue color and strong winds, with some of the fastest winds in the solar system.\n",
      "\n",
      "There are also dwarf planets, like Pluto, which don't meet all the criteria to be considered full-fledged planets. Each planet has its own unique features and mysteries, making space exploration an exciting field! Do you have any specific questions about a particular planet?\n",
      "Human: What's the largest planet in our solar system?\n",
      "AI: The largest planet in our solar system is Jupiter. It has a diameter of about 86,881 miles (139,822 kilometers), making it more than 11 times wider than Earth! Jupiter is primarily composed of hydrogen and helium, and its massive size gives it a strong gravitational pull, which helps it capture many moons—over 79 known moons, in fact. \n",
      "\n",
      "One of the most famous features of Jupiter is the Great Red Spot, a massive storm that has been raging for at least 350 years. This storm is so large that it could fit two to three Earths inside it! Jupiter also has a faint ring system, although it's not as prominent as Saturn's rings. \n",
      "\n",
      "Would you like to know more about Jupiter's moons or any specific features?\n",
      "Human: How does its size compare to Earth?\n",
      "AI:\u001b[0m\n",
      "\n",
      "\u001b[1m> Finished chain.\u001b[0m\n",
      "Jupiter's size is truly astounding when compared to Earth. As I mentioned earlier, Jupiter has a diameter of about 86,881 miles (139,822 kilometers), while Earth has a diameter of about 7,918 miles (12,742 kilometers). This means that Jupiter is more than 11 times wider than Earth!\n",
      "\n",
      "In terms of volume, you could fit over 1,300 Earths inside Jupiter! Its mass is also significantly greater; Jupiter is about 318 times more massive than Earth. This immense mass contributes to its strong gravitational field, which is about 24.79 m/s² compared to Earth's 9.81 m/s². \n",
      "\n",
      "Because of this gravity, objects on Jupiter would weigh much more than they do on Earth. For example, if you weigh 100 pounds (about 45 kilograms) on Earth, you would weigh around 240 pounds (about 109 kilograms) on Jupiter!\n",
      "\n",
      "This size difference also affects the planet's atmosphere and weather systems. Jupiter has a much thicker atmosphere composed mainly of hydrogen and helium, which leads to complex weather patterns, including powerful storms and high-speed winds. \n",
      "\n",
      "If you're curious about anything specific related to Jupiter or how its size influences other aspects, feel free to ask!\n"
     ]
    }
   ],
   "source": [
    "conversation = ConversationChain(\n",
    "    llm=llm, \n",
    "    verbose=True,\n",
    "    memory=ConversationBufferMemory()\n",
    ")\n",
    "\n",
    "print(conversation.predict(input=\"Hi, I'm learning about space. Can you tell me about planets?\"))\n",
    "print(conversation.predict(input=\"What's the largest planet in our solar system?\"))\n",
    "print(conversation.predict(input=\"How does its size compare to Earth?\"))"
   ]
  },
  {
   "cell_type": "markdown",
   "metadata": {},
   "source": [
    "Let's compare how single-turn and multi-turn prompts handle a series of related questions:"
   ]
  },
  {
   "cell_type": "code",
   "execution_count": 5,
   "metadata": {},
   "outputs": [
    {
     "name": "stdout",
     "output_type": "stream",
     "text": [
      "Single-turn responses:\n",
      "Q: What is the capital of France?\n",
      "A: The capital of France is Paris.\n",
      "\n",
      "Q: What is its population?\n",
      "A: Could you please clarify which location or entity you are referring to when you ask about its population?\n",
      "\n",
      "Q: What is the city's most famous landmark?\n",
      "A: To provide an accurate answer, I need to know which city you are referring to. Could you please specify the city?\n",
      "\n",
      "Multi-turn responses:\n",
      "Q: What is the capital of France?\n",
      "A: The capital of France is Paris! It's known for its iconic landmarks like the Eiffel Tower, the Louvre Museum, and Notre-Dame Cathedral. Paris is also famous for its rich history, vibrant culture, and delicious cuisine. Have you ever been to Paris, or is it on your travel list?\n",
      "\n",
      "Q: What is its population?\n",
      "A: As of my last update, the population of Paris is approximately 2.1 million people within the city limits. However, the larger metropolitan area, known as the Île-de-France region, has a population of around 12 million, making it one of the most populous urban areas in Europe. Paris is a bustling city with a diverse population, and it attracts millions of visitors every year. Do you enjoy learning about different cities' demographics?\n",
      "\n",
      "Q: What is the city's most famous landmark?\n",
      "A: The most famous landmark in Paris is undoubtedly the Eiffel Tower! Completed in 1889 for the Exposition Universelle, it stands at about 1,083 feet (330 meters) tall and was designed by Gustave Eiffel. The tower is an iconic symbol of not just Paris, but of France as a whole. Visitors can take an elevator or climb the stairs to various levels to enjoy breathtaking views of the city. It's especially beautiful when illuminated at night, sparkling every hour on the hour. Have you ever seen a photo of the Eiffel Tower, or do you have a favorite landmark of your own?\n",
      "\n"
     ]
    }
   ],
   "source": [
    "# Single-turn prompts\n",
    "prompts = [\n",
    "    \"What is the capital of France?\",\n",
    "    \"What is its population?\",\n",
    "    \"What is the city's most famous landmark?\"\n",
    "]\n",
    "\n",
    "print(\"Single-turn responses:\")\n",
    "for prompt in prompts:\n",
    "    print(f\"Q: {prompt}\")\n",
    "    print(f\"A: {llm.invoke(prompt).content}\\n\")\n",
    "\n",
    "# Multi-turn prompts\n",
    "print(\"Multi-turn responses:\")\n",
    "conversation = ConversationChain(llm=llm, memory=ConversationBufferMemory())\n",
    "for prompt in prompts:\n",
    "    print(f\"Q: {prompt}\")\n",
    "    print(f\"A: {conversation.predict(input=prompt)}\\n\")"
   ]
  },
  {
   "cell_type": "markdown",
   "metadata": {},
   "source": [
    "## Conclusion\n",
    "\n",
    "This tutorial has introduced you to the basics of single-turn and multi-turn prompt structures. We've seen how:\n",
    "\n",
    "1. Single-turn prompts are useful for quick, isolated queries.\n",
    "2. Multi-turn prompts maintain context across a conversation, allowing for more complex interactions.\n",
    "3. PromptTemplates can be used to create structured, reusable prompts.\n",
    "4. Conversation chains in LangChain help manage context in multi-turn interactions.\n",
    "\n",
    "Understanding these different prompt structures allows you to choose the most appropriate approach for various tasks and create more effective interactions with AI language models."
   ]
  }
 ],
 "metadata": {
  "kernelspec": {
   "display_name": "llmEnv",
   "language": "python",
   "name": "python3"
  },
  "language_info": {
   "codemirror_mode": {
    "name": "ipython",
    "version": 3
   },
   "file_extension": ".py",
   "mimetype": "text/x-python",
   "name": "python",
   "nbconvert_exporter": "python",
   "pygments_lexer": "ipython3",
   "version": "3.12.6"
  }
 },
 "nbformat": 4,
 "nbformat_minor": 4
}
