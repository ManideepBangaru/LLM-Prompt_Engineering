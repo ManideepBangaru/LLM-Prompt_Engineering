{
 "cells": [
  {
   "cell_type": "markdown",
   "metadata": {},
   "source": [
    "# Introduction to Prompt Engineering Tutorial\n",
    "\n",
    "## Overview\n",
    "\n",
    "This notebook provides a comprehensive introduction to the fundamental concepts of prompt engineering in the context of AI and language models. It is designed to give learners a solid foundation in understanding how to effectively communicate with and leverage large language models through carefully crafted prompts.\n",
    "\n",
    "## Motivation\n",
    "\n",
    "As AI language models become increasingly sophisticated and widely used, the ability to interact with them effectively becomes a crucial skill. Prompt engineering is the key to unlocking the full potential of these models, allowing users to guide AI outputs, improve response quality, and tackle complex tasks. This tutorial aims to equip learners with the essential knowledge and skills to begin their journey in prompt engineering.\n",
    "\n",
    "## Key Components\n",
    "\n",
    "The notebook series covers several key components of prompt engineering:\n",
    "\n",
    "1. **Basic Concepts**: An introduction to what prompt engineering is and why it's important.\n",
    "2. **Prompt Structures**: Exploration of different ways to structure prompts for various outcomes.\n",
    "3. **Importance of Prompt Engineering**: Discussion on how prompt engineering impacts AI model performance.\n",
    "4. **Role in AI and Language Models**: Examination of how prompt engineering fits into the broader context of AI applications.\n",
    "5. **Practical Examples**: Hands-on demonstrations of prompt engineering techniques.\n",
    "\n",
    "## Method Details\n",
    "\n",
    "The notebook series employs a mix of theoretical explanations and practical demonstrations to convey the concepts of prompt engineering:\n",
    "\n",
    "1. **Setup and Environment**: The lesson begins by setting up the necessary tools, including the OpenAI API and LangChain library. This provides a practical environment for experimenting with prompts.\n",
    "\n",
    "2. **Basic Concept Exploration**: Through simple examples, learners are introduced to how different prompts can yield varying responses from the AI model. This illustrates the fundamental principle of prompt engineering.\n",
    "\n",
    "3. **Structured Prompts**: The tutorial demonstrates how to create more complex, structured prompts using LangChain's PromptTemplate. This shows how to create reusable prompt structures with variable inputs.\n",
    "\n",
    "4. **Comparative Analysis**: By presenting multiple prompts on the same topic, the lesson highlights how subtle changes in prompt structure and wording can significantly affect the AI's output.\n",
    "\n",
    "5. **Problem-Solving Application**: The tutorial explores how prompt engineering can be applied to break down complex problems, guiding the AI through a step-by-step reasoning process.\n",
    "\n",
    "6. **Limitation Mitigation**: Examples are provided to show how careful prompt design can help overcome some limitations of AI models, such as improving factual accuracy.\n",
    "\n",
    "Throughout these methods, the tutorial emphasizes the importance of clarity, specificity, and thoughtful design in creating effective prompts.\n",
    "\n",
    "## Conclusion\n",
    "\n",
    "This introductory tutorial on prompt engineering lays the groundwork for understanding and applying this crucial skill in AI interactions. By the end of the lesson, learners will have gained:\n",
    "\n",
    "1. A clear understanding of what prompt engineering is and why it's important.\n",
    "2. Insight into how different prompt structures can influence AI outputs.\n",
    "3. Practical experience in crafting prompts for various purposes.\n",
    "4. Awareness of the role prompt engineering plays in enhancing AI model performance.\n",
    "5. A foundation for exploring more advanced prompt engineering techniques.\n",
    "\n",
    "The skills and knowledge gained from this tutorial will enable learners to more effectively harness the power of AI language models, setting the stage for more advanced applications and explorations in the field of artificial intelligence."
   ]
  },
  {
   "cell_type": "markdown",
   "metadata": {},
   "source": [
    "## Setup\n",
    "\n",
    "First, let's import the necessary libraries"
   ]
  },
  {
   "cell_type": "code",
   "execution_count": 4,
   "metadata": {},
   "outputs": [],
   "source": [
    "import os\n",
    "from langchain_openai import ChatOpenAI\n",
    "from langchain.prompts import PromptTemplate\n",
    "\n",
    "from IPython.display import Markdown\n",
    "\n",
    "# from dotenv import load_dotenv\n",
    "# load_dotenv()\n",
    "\n",
    "# os.environ[\"OPENAI_API_KEY\"] = os.getenv('OPENAI_API_KEY') # OpenAI API key\n",
    "\n",
    "# Initialize the language model\n",
    "llm = ChatOpenAI(model=\"gpt-4o-mini\")"
   ]
  },
  {
   "cell_type": "markdown",
   "metadata": {},
   "source": [
    "## Basic Concepts and Importance\n",
    "\n",
    "Prompt engineering is the practice of designing and optimizing input prompts for language models to generate desired outputs. It's a crucial skill for effectively leveraging AI models in various applications.\n",
    "\n",
    "Let's explore the concept with a simple example:"
   ]
  },
  {
   "cell_type": "code",
   "execution_count": 6,
   "metadata": {},
   "outputs": [
    {
     "data": {
      "text/markdown": [
       "Prompt engineering is the process of designing and refining input prompts to optimize the responses generated by language models, enhancing their relevance and accuracy for specific tasks."
      ],
      "text/plain": [
       "<IPython.core.display.Markdown object>"
      ]
     },
     "execution_count": 6,
     "metadata": {},
     "output_type": "execute_result"
    }
   ],
   "source": [
    "basic_prompt = \"Explain the concept of prompt engineering in one sentence.\"\n",
    "Markdown(llm.invoke(basic_prompt).content)"
   ]
  },
  {
   "cell_type": "markdown",
   "metadata": {},
   "source": [
    "Now, let's see how a more structured prompt can yield a more detailed response:"
   ]
  },
  {
   "cell_type": "code",
   "execution_count": 8,
   "metadata": {},
   "outputs": [
    {
     "data": {
      "text/markdown": [
       "### Definition of Prompt Engineering\n",
       "\n",
       "Prompt engineering is the process of designing and refining the input prompts given to artificial intelligence (AI) models, particularly language models, to elicit the most accurate, relevant, or creative responses. It involves crafting the wording, structure, and context of prompts to optimize the model's performance in generating desired outputs. Effective prompt engineering can significantly enhance the interaction between users and AI systems by guiding the model toward producing high-quality results.\n",
       "\n",
       "### Importance of Prompt Engineering\n",
       "\n",
       "Prompt engineering is crucial because it directly influences the effectiveness and usability of AI applications. As AI models have become increasingly powerful, the ability to communicate clearly and effectively with them through prompts has emerged as a key skill. This practice helps bridge the gap between human intent and machine interpretation, ensuring that the AI can understand and respond appropriately to user requests.\n",
       "\n",
       "### Key Benefits of Prompt Engineering\n",
       "\n",
       "1. **Improved Output Quality**: Well-crafted prompts can lead to more accurate, relevant, and coherent responses from AI models. By clearly defining the context and desired outcome, users can minimize misunderstandings and produce higher quality outputs.\n",
       "\n",
       "2. **Enhanced Creativity and Variety**: Prompt engineering allows users to explore different ways of phrasing their requests, which can lead to diverse and innovative responses. This is particularly beneficial in creative applications, such as content generation, brainstorming, or artistic endeavors.\n",
       "\n",
       "3. **Increased Efficiency**: By refining prompts, users can save time in generating the desired results. Effective prompt engineering can reduce the need for multiple iterations or revisions, enabling faster and more streamlined interactions with AI systems. This efficiency is especially valuable in professional and business contexts where time and resources are critical."
      ],
      "text/plain": [
       "<IPython.core.display.Markdown object>"
      ]
     },
     "execution_count": 8,
     "metadata": {},
     "output_type": "execute_result"
    }
   ],
   "source": [
    "structured_prompt = PromptTemplate(\n",
    "    input_variables=[\"topic\"],\n",
    "    template=\"Provide a definition of {topic}, explain its importance, and list three key benefits.\"\n",
    ")\n",
    "\n",
    "chain = structured_prompt | llm # Combine the prompt template with the language model\n",
    "input_variables = {\"topic\": \"prompt engineering\"} # Define the input variables\n",
    "output = chain.invoke(input_variables).content # Invoke the chain with the input variables\n",
    "Markdown(output)"
   ]
  },
  {
   "cell_type": "markdown",
   "metadata": {},
   "source": [
    "### Importance of Prompt Engineering\n",
    "\n",
    "Prompt engineering is important because it allows us to:\n",
    "1. Improve the quality and relevance of AI-generated outputs\n",
    "2. Guide language models to perform specific tasks more effectively\n",
    "3. Overcome limitations and biases in AI models\n",
    "4. Customize AI responses for different use cases and audiences\n",
    "\n",
    "Let's demonstrate how different prompts can lead to different outputs on the same topic:"
   ]
  },
  {
   "cell_type": "code",
   "execution_count": 13,
   "metadata": {},
   "outputs": [
    {
     "name": "stdout",
     "output_type": "stream",
     "text": [
      "\n",
      "Prompt 1:\n",
      "List 3 applications of AI in healthcare.\n",
      "\n",
      "Response:\n",
      "Certainly! Here are three applications of AI in healthcare:\n",
      "\n",
      "1. **Diagnostic Assistance**: AI algorithms can analyze medical images, such as X-rays, MRIs, and CT scans, to assist radiologists in diagnosing conditions like tumors, fractures, and other abnormalities. For example, deep learning models can help identify early signs of diseases such as cancer, improving accuracy and speed in diagnostics.\n",
      "\n",
      "2. **Predictive Analytics**: AI can analyze vast amounts of patient data to predict health outcomes and identify individuals at risk for certain conditions. For example, machine learning models can be used to forecast hospital readmissions, allowing healthcare providers to implement preventive measures and improve patient management.\n",
      "\n",
      "3. **Personalized Treatment Plans**: AI can help tailor treatment plans to individual patients based on their unique genetic makeup, medical history, and lifestyle factors. By analyzing data from clinical studies and patient records, AI can assist in determining the most effective therapies and medications, leading to better patient outcomes.\n",
      "\n",
      "These applications demonstrate the potential of AI to enhance the efficiency and effectiveness of healthcare delivery.\n",
      "--------------------------------------------------\n",
      "\n",
      "Prompt 2:\n",
      "Explain how AI is revolutionizing healthcare, with 3 specific examples.\n",
      "\n",
      "Response:\n",
      "AI is significantly transforming the healthcare landscape by enhancing diagnostics, personalizing treatment, and optimizing operational efficiencies. Here are three specific examples illustrating how AI is revolutionizing healthcare:\n",
      "\n",
      "1. **Enhanced Diagnostics with Imaging Analysis**:\n",
      "   AI algorithms, particularly those based on deep learning, are being employed to analyze medical images such as X-rays, MRIs, and CT scans. For instance, Google's DeepMind has developed AI systems that can detect eye diseases by analyzing retinal scans with accuracy comparable to that of experienced ophthalmologists. These systems can identify conditions like diabetic retinopathy and age-related macular degeneration at early stages, allowing for timely interventions and better patient outcomes. This not only speeds up the diagnostic process but also reduces the burden on healthcare professionals.\n",
      "\n",
      "2. **Personalized Medicine through Predictive Analytics**:\n",
      "   AI is also being utilized to tailor treatments to individual patients based on genetic, environmental, and lifestyle factors. Companies like Tempus leverage AI to analyze clinical and molecular data to identify patterns that can inform treatment decisions for cancer patients. By providing oncologists with data-driven insights, AI helps in selecting the most effective therapies for each patient, thereby increasing the likelihood of successful outcomes and minimizing adverse effects. This move toward personalized medicine is changing the traditional one-size-fits-all approach in healthcare.\n",
      "\n",
      "3. **Operational Efficiency and Resource Management**:\n",
      "   AI-driven tools are improving operational efficiencies within healthcare facilities. For example, AI algorithms can optimize scheduling for hospital staff and patient appointments, leading to reduced wait times and better resource allocation. Companies like Qventus use AI to predict patient flow and identify bottlenecks in real-time, enabling healthcare providers to respond proactively. This optimization not only enhances patient experiences but also reduces costs and improves the overall functioning of healthcare systems.\n",
      "\n",
      "These examples highlight how AI is not only aiding in clinical decision-making but also reshaping the operational aspects of healthcare, leading to improved patient care and more efficient healthcare delivery systems.\n",
      "--------------------------------------------------\n",
      "\n",
      "Prompt 3:\n",
      "You are a doctor. Describe 3 ways AI has improved your daily work in the hospital.\n",
      "\n",
      "Response:\n",
      "As a doctor, I have experienced several significant improvements in my daily work due to the integration of AI in the hospital setting. Here are three key ways AI has enhanced my practice:\n",
      "\n",
      "1. **Enhanced Diagnostic Accuracy**: AI algorithms can analyze medical images, such as X-rays, MRIs, and CT scans, with remarkable precision. By assisting in the identification of abnormalities, AI helps reduce diagnostic errors and supports my clinical decision-making. For instance, AI systems can quickly highlight potential areas of concern, allowing me to focus my attention on specific findings and correlate them with clinical data more effectively.\n",
      "\n",
      "2. **Streamlined Administrative Tasks**: AI-powered tools have significantly reduced the administrative burden associated with patient management. For example, natural language processing (NLP) applications can automate the transcription of patient notes and facilitate the completion of electronic health records (EHRs). This not only saves time but also ensures that documentation is more accurate and up-to-date, allowing me to dedicate more time to patient care rather than paperwork.\n",
      "\n",
      "3. **Personalized Treatment Plans**: AI systems can analyze vast amounts of patient data, including genetic information, treatment history, and outcomes from similar cases, to help create personalized treatment plans. By leveraging predictive analytics, AI can suggest tailored therapies or interventions that are more likely to be effective for individual patients. This enhances the quality of care I can provide and helps in making informed decisions that align with the specific needs and circumstances of each patient.\n",
      "\n",
      "Overall, the integration of AI in the hospital setting has allowed me to work more efficiently, improve patient outcomes, and enhance my overall clinical practice.\n",
      "--------------------------------------------------\n"
     ]
    }
   ],
   "source": [
    "prompts = [\n",
    "    \"List 3 applications of AI in healthcare.\",\n",
    "    \"Explain how AI is revolutionizing healthcare, with 3 specific examples.\",\n",
    "    \"You are a doctor. Describe 3 ways AI has improved your daily work in the hospital.\"\n",
    "]\n",
    "\n",
    "for i, prompt in enumerate(prompts, 1):\n",
    "    print(f\"\\nPrompt {i}:\")\n",
    "    print(prompt)\n",
    "    print(\"\\nResponse:\")\n",
    "    print(llm.invoke(prompt).content)\n",
    "    print(\"-\" * 50)"
   ]
  },
  {
   "cell_type": "markdown",
   "metadata": {},
   "source": [
    "## Role in AI and Language Models\n",
    "\n",
    "Prompt engineering plays a crucial role in enhancing the performance and applicability of AI and language models. It helps in:\n",
    "\n",
    "1. Tailoring model outputs to specific needs\n",
    "2. Improving the accuracy and relevance of responses\n",
    "3. Enabling complex task completion\n",
    "4. Reducing biases and improving fairness in AI outputs\n",
    "\n",
    "Let's explore how prompt engineering can help in overcoming some limitations of language models:"
   ]
  },
  {
   "cell_type": "code",
   "execution_count": 14,
   "metadata": {},
   "outputs": [
    {
     "name": "stdout",
     "output_type": "stream",
     "text": [
      "Evaluation: The statement is incorrect. \n",
      "\n",
      "Correct Information: The capital of France is Paris.\n"
     ]
    }
   ],
   "source": [
    "fact_check_prompt = PromptTemplate(\n",
    "    input_variables=[\"statement\"],\n",
    "    template=\"\"\"Evaluate the following statement for factual accuracy. If it's incorrect, provide the correct information:\n",
    "    Statement: {statement}\n",
    "    Evaluation:\"\"\"\n",
    ")\n",
    "\n",
    "chain = fact_check_prompt | llm\n",
    "print(chain.invoke(\"The capital of France is London.\").content)"
   ]
  },
  {
   "cell_type": "markdown",
   "metadata": {},
   "source": [
    "### Improving Complex Problem-Solving\n",
    "\n",
    "Prompt engineering can also help in breaking down complex problems and guiding the model through a step-by-step reasoning process:"
   ]
  },
  {
   "cell_type": "code",
   "execution_count": 15,
   "metadata": {},
   "outputs": [
    {
     "name": "stdout",
     "output_type": "stream",
     "text": [
      "To calculate the compound interest on an investment, we can use the formula for compound interest:\n",
      "\n",
      "\\[\n",
      "A = P(1 + r)^n\n",
      "\\]\n",
      "\n",
      "where:\n",
      "- \\( A \\) is the amount of money accumulated after n years, including interest.\n",
      "- \\( P \\) is the principal amount (the initial amount of money).\n",
      "- \\( r \\) is the annual interest rate (decimal).\n",
      "- \\( n \\) is the number of years the money is invested or borrowed.\n",
      "\n",
      "Given:\n",
      "- \\( P = 1000 \\) (the principal amount)\n",
      "- \\( r = 5\\% = 0.05 \\) (the annual interest rate in decimal)\n",
      "- \\( n = 5 \\) (the number of years)\n",
      "\n",
      "Now, we can solve the problem step by step.\n",
      "\n",
      "### Step 1: Plug in the values into the formula\n",
      "\n",
      "\\[\n",
      "A = 1000(1 + 0.05)^5\n",
      "\\]\n",
      "\n",
      "### Step 2: Calculate \\( (1 + 0.05) \\)\n",
      "\n",
      "\\[\n",
      "1 + 0.05 = 1.05\n",
      "\\]\n",
      "\n",
      "### Step 3: Compute \\( (1.05)^5 \\)\n",
      "\n",
      "To compute \\( (1.05)^5 \\):\n",
      "\n",
      "\\[\n",
      "(1.05)^5 = 1.2762815625 \\quad \\text{(using a calculator)}\n",
      "\\]\n",
      "\n",
      "### Step 4: Multiply by the principal amount \\( P \\)\n",
      "\n",
      "Now we can find \\( A \\):\n",
      "\n",
      "\\[\n",
      "A = 1000 \\times 1.2762815625\n",
      "\\]\n",
      "\n",
      "\\[\n",
      "A = 1276.2815625\n",
      "\\]\n",
      "\n",
      "### Step 5: Calculate the compound interest\n",
      "\n",
      "To find the compound interest, we subtract the principal from the total amount:\n",
      "\n",
      "\\[\n",
      "\\text{Compound Interest} = A - P\n",
      "\\]\n",
      "\n",
      "\\[\n",
      "\\text{Compound Interest} = 1276.2815625 - 1000\n",
      "\\]\n",
      "\n",
      "\\[\n",
      "\\text{Compound Interest} = 276.2815625\n",
      "\\]\n",
      "\n",
      "### Conclusion\n",
      "\n",
      "The compound interest on $1000 invested for 5 years at an annual rate of 5%, compounded annually, is approximately **$276.28**.\n"
     ]
    }
   ],
   "source": [
    "problem_solving_prompt = PromptTemplate(\n",
    "    input_variables=[\"problem\"],\n",
    "    template=\"\"\"Solve the following problem step by step:\n",
    "    Problem: {problem}\n",
    "    Solution:\n",
    "    1)\"\"\"\n",
    ")\n",
    "\n",
    "chain = problem_solving_prompt | llm\n",
    "print(chain.invoke(\"Calculate the compound interest on $1000 invested for 5 years at an annual rate of 5%, compounded annually.\").content)"
   ]
  }
 ],
 "metadata": {
  "kernelspec": {
   "display_name": "llmEnv",
   "language": "python",
   "name": "python3"
  },
  "language_info": {
   "codemirror_mode": {
    "name": "ipython",
    "version": 3
   },
   "file_extension": ".py",
   "mimetype": "text/x-python",
   "name": "python",
   "nbconvert_exporter": "python",
   "pygments_lexer": "ipython3",
   "version": "3.12.6"
  }
 },
 "nbformat": 4,
 "nbformat_minor": 4
}
